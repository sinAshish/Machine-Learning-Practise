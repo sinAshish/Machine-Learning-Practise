{
 "cells": [
  {
   "cell_type": "code",
   "execution_count": 203,
   "metadata": {
    "collapsed": true
   },
   "outputs": [],
   "source": [
    "import numpy as np\n",
    "import pandas as pd\n",
    "import seaborn as sns\n",
    "import matplotlib.pyplot as plt\n",
    "%matplotlib inline"
   ]
  },
  {
   "cell_type": "code",
   "execution_count": 204,
   "metadata": {
    "collapsed": true
   },
   "outputs": [],
   "source": [
    "from sklearn.model_selection import train_test_split\n",
    "from sklearn.metrics import accuracy_score,auc,roc_auc_score"
   ]
  },
  {
   "cell_type": "code",
   "execution_count": 205,
   "metadata": {
    "collapsed": true
   },
   "outputs": [],
   "source": [
    "from sklearn.ensemble import ExtraTreesClassifier,RandomForestClassifier,GradientBoostingClassifier\n",
    "from sklearn.learning_curve import check_cv\n",
    "from sklearn.linear_model import LogisticRegression\n",
    "from sklearn.tree import DecisionTreeClassifier\n",
    "from sklearn.preprocessing import LabelEncoder\n",
    "from sklearn.svm import SVC"
   ]
  },
  {
   "cell_type": "code",
   "execution_count": 392,
   "metadata": {
    "collapsed": true
   },
   "outputs": [],
   "source": [
    "train=pd.read_csv('train.csv')"
   ]
  },
  {
   "cell_type": "code",
   "execution_count": 393,
   "metadata": {
    "collapsed": true
   },
   "outputs": [],
   "source": [
    "test=pd.read_csv('test.csv')"
   ]
  },
  {
   "cell_type": "code",
   "execution_count": 394,
   "metadata": {},
   "outputs": [
    {
     "data": {
      "text/html": [
       "<div>\n",
       "<style>\n",
       "    .dataframe thead tr:only-child th {\n",
       "        text-align: right;\n",
       "    }\n",
       "\n",
       "    .dataframe thead th {\n",
       "        text-align: left;\n",
       "    }\n",
       "\n",
       "    .dataframe tbody tr th {\n",
       "        vertical-align: top;\n",
       "    }\n",
       "</style>\n",
       "<table border=\"1\" class=\"dataframe\">\n",
       "  <thead>\n",
       "    <tr style=\"text-align: right;\">\n",
       "      <th></th>\n",
       "      <th>ID</th>\n",
       "      <th>Gender</th>\n",
       "      <th>DOB</th>\n",
       "      <th>Lead_Creation_Date</th>\n",
       "      <th>City_Code</th>\n",
       "      <th>City_Category</th>\n",
       "      <th>Employer_Code</th>\n",
       "      <th>Employer_Category1</th>\n",
       "      <th>Employer_Category2</th>\n",
       "      <th>Monthly_Income</th>\n",
       "      <th>...</th>\n",
       "      <th>Contacted</th>\n",
       "      <th>Source</th>\n",
       "      <th>Source_Category</th>\n",
       "      <th>Existing_EMI</th>\n",
       "      <th>Loan_Amount</th>\n",
       "      <th>Loan_Period</th>\n",
       "      <th>Interest_Rate</th>\n",
       "      <th>EMI</th>\n",
       "      <th>Var1</th>\n",
       "      <th>Approved</th>\n",
       "    </tr>\n",
       "  </thead>\n",
       "  <tbody>\n",
       "    <tr>\n",
       "      <th>0</th>\n",
       "      <td>APPC90493171225</td>\n",
       "      <td>Female</td>\n",
       "      <td>23/07/79</td>\n",
       "      <td>15/07/16</td>\n",
       "      <td>C10001</td>\n",
       "      <td>A</td>\n",
       "      <td>COM0044082</td>\n",
       "      <td>A</td>\n",
       "      <td>4.0</td>\n",
       "      <td>2000.0</td>\n",
       "      <td>...</td>\n",
       "      <td>N</td>\n",
       "      <td>S122</td>\n",
       "      <td>G</td>\n",
       "      <td>0.0</td>\n",
       "      <td>NaN</td>\n",
       "      <td>NaN</td>\n",
       "      <td>NaN</td>\n",
       "      <td>NaN</td>\n",
       "      <td>0</td>\n",
       "      <td>0</td>\n",
       "    </tr>\n",
       "    <tr>\n",
       "      <th>1</th>\n",
       "      <td>APPD40611263344</td>\n",
       "      <td>Male</td>\n",
       "      <td>07/12/86</td>\n",
       "      <td>04/07/16</td>\n",
       "      <td>C10003</td>\n",
       "      <td>A</td>\n",
       "      <td>COM0000002</td>\n",
       "      <td>C</td>\n",
       "      <td>1.0</td>\n",
       "      <td>3500.0</td>\n",
       "      <td>...</td>\n",
       "      <td>Y</td>\n",
       "      <td>S122</td>\n",
       "      <td>G</td>\n",
       "      <td>0.0</td>\n",
       "      <td>20000.0</td>\n",
       "      <td>2.0</td>\n",
       "      <td>13.25</td>\n",
       "      <td>953.0</td>\n",
       "      <td>10</td>\n",
       "      <td>0</td>\n",
       "    </tr>\n",
       "    <tr>\n",
       "      <th>2</th>\n",
       "      <td>APPE70289249423</td>\n",
       "      <td>Male</td>\n",
       "      <td>10/12/82</td>\n",
       "      <td>19/07/16</td>\n",
       "      <td>C10125</td>\n",
       "      <td>C</td>\n",
       "      <td>COM0005267</td>\n",
       "      <td>C</td>\n",
       "      <td>4.0</td>\n",
       "      <td>2250.0</td>\n",
       "      <td>...</td>\n",
       "      <td>Y</td>\n",
       "      <td>S143</td>\n",
       "      <td>B</td>\n",
       "      <td>0.0</td>\n",
       "      <td>45000.0</td>\n",
       "      <td>4.0</td>\n",
       "      <td>NaN</td>\n",
       "      <td>NaN</td>\n",
       "      <td>0</td>\n",
       "      <td>0</td>\n",
       "    </tr>\n",
       "    <tr>\n",
       "      <th>3</th>\n",
       "      <td>APPF80273865537</td>\n",
       "      <td>Male</td>\n",
       "      <td>30/01/89</td>\n",
       "      <td>09/07/16</td>\n",
       "      <td>C10477</td>\n",
       "      <td>C</td>\n",
       "      <td>COM0004143</td>\n",
       "      <td>A</td>\n",
       "      <td>4.0</td>\n",
       "      <td>3500.0</td>\n",
       "      <td>...</td>\n",
       "      <td>Y</td>\n",
       "      <td>S143</td>\n",
       "      <td>B</td>\n",
       "      <td>0.0</td>\n",
       "      <td>92000.0</td>\n",
       "      <td>5.0</td>\n",
       "      <td>NaN</td>\n",
       "      <td>NaN</td>\n",
       "      <td>7</td>\n",
       "      <td>0</td>\n",
       "    </tr>\n",
       "    <tr>\n",
       "      <th>4</th>\n",
       "      <td>APPG60994436641</td>\n",
       "      <td>Male</td>\n",
       "      <td>19/04/85</td>\n",
       "      <td>20/07/16</td>\n",
       "      <td>C10002</td>\n",
       "      <td>A</td>\n",
       "      <td>COM0001781</td>\n",
       "      <td>A</td>\n",
       "      <td>4.0</td>\n",
       "      <td>10000.0</td>\n",
       "      <td>...</td>\n",
       "      <td>Y</td>\n",
       "      <td>S134</td>\n",
       "      <td>B</td>\n",
       "      <td>2500.0</td>\n",
       "      <td>50000.0</td>\n",
       "      <td>2.0</td>\n",
       "      <td>NaN</td>\n",
       "      <td>NaN</td>\n",
       "      <td>10</td>\n",
       "      <td>0</td>\n",
       "    </tr>\n",
       "  </tbody>\n",
       "</table>\n",
       "<p>5 rows × 22 columns</p>\n",
       "</div>"
      ],
      "text/plain": [
       "                ID  Gender       DOB Lead_Creation_Date City_Code  \\\n",
       "0  APPC90493171225  Female  23/07/79           15/07/16    C10001   \n",
       "1  APPD40611263344    Male  07/12/86           04/07/16    C10003   \n",
       "2  APPE70289249423    Male  10/12/82           19/07/16    C10125   \n",
       "3  APPF80273865537    Male  30/01/89           09/07/16    C10477   \n",
       "4  APPG60994436641    Male  19/04/85           20/07/16    C10002   \n",
       "\n",
       "  City_Category Employer_Code Employer_Category1  Employer_Category2  \\\n",
       "0             A    COM0044082                  A                 4.0   \n",
       "1             A    COM0000002                  C                 1.0   \n",
       "2             C    COM0005267                  C                 4.0   \n",
       "3             C    COM0004143                  A                 4.0   \n",
       "4             A    COM0001781                  A                 4.0   \n",
       "\n",
       "   Monthly_Income    ...    Contacted Source Source_Category Existing_EMI  \\\n",
       "0          2000.0    ...            N   S122               G          0.0   \n",
       "1          3500.0    ...            Y   S122               G          0.0   \n",
       "2          2250.0    ...            Y   S143               B          0.0   \n",
       "3          3500.0    ...            Y   S143               B          0.0   \n",
       "4         10000.0    ...            Y   S134               B       2500.0   \n",
       "\n",
       "  Loan_Amount  Loan_Period  Interest_Rate    EMI  Var1  Approved  \n",
       "0         NaN          NaN            NaN    NaN     0         0  \n",
       "1     20000.0          2.0          13.25  953.0    10         0  \n",
       "2     45000.0          4.0            NaN    NaN     0         0  \n",
       "3     92000.0          5.0            NaN    NaN     7         0  \n",
       "4     50000.0          2.0            NaN    NaN    10         0  \n",
       "\n",
       "[5 rows x 22 columns]"
      ]
     },
     "execution_count": 394,
     "metadata": {},
     "output_type": "execute_result"
    }
   ],
   "source": [
    "train.head()"
   ]
  },
  {
   "cell_type": "code",
   "execution_count": 395,
   "metadata": {
    "collapsed": true
   },
   "outputs": [],
   "source": [
    "y=train['Approved']\n",
    "train.drop(['Approved'],axis=1,inplace=True)"
   ]
  },
  {
   "cell_type": "code",
   "execution_count": 396,
   "metadata": {},
   "outputs": [
    {
     "data": {
      "text/plain": [
       "(69713, 21)"
      ]
     },
     "execution_count": 396,
     "metadata": {},
     "output_type": "execute_result"
    }
   ],
   "source": [
    "train.shape"
   ]
  },
  {
   "cell_type": "code",
   "execution_count": 397,
   "metadata": {},
   "outputs": [
    {
     "data": {
      "text/plain": [
       "array(['A', 'C', 'B', nan], dtype=object)"
      ]
     },
     "execution_count": 397,
     "metadata": {},
     "output_type": "execute_result"
    }
   ],
   "source": [
    "train['Employer_Category1'].unique()"
   ]
  },
  {
   "cell_type": "code",
   "execution_count": 398,
   "metadata": {},
   "outputs": [
    {
     "data": {
      "text/plain": [
       "array([  4.,   1.,   3.,   2.,  nan])"
      ]
     },
     "execution_count": 398,
     "metadata": {},
     "output_type": "execute_result"
    }
   ],
   "source": [
    "train['Employer_Category2'].unique()"
   ]
  },
  {
   "cell_type": "code",
   "execution_count": 399,
   "metadata": {},
   "outputs": [
    {
     "data": {
      "text/plain": [
       "(30037, 21)"
      ]
     },
     "execution_count": 399,
     "metadata": {},
     "output_type": "execute_result"
    }
   ],
   "source": [
    "test.shape"
   ]
  },
  {
   "cell_type": "code",
   "execution_count": 400,
   "metadata": {
    "collapsed": true
   },
   "outputs": [],
   "source": [
    "from sklearn.feature_selection import SelectPercentile,chi2"
   ]
  },
  {
   "cell_type": "code",
   "execution_count": 401,
   "metadata": {
    "collapsed": true
   },
   "outputs": [],
   "source": [
    "train.drop(['ID'],axis=1,inplace=True)"
   ]
  },
  {
   "cell_type": "code",
   "execution_count": 402,
   "metadata": {
    "collapsed": true
   },
   "outputs": [],
   "source": [
    "ID=test['ID']\n",
    "test.drop(['ID'],axis=1,inplace=True)"
   ]
  },
  {
   "cell_type": "code",
   "execution_count": 411,
   "metadata": {
    "collapsed": true
   },
   "outputs": [],
   "source": [
    "le=LabelEncoder()\n",
    "features=['Gender','City_Code','City_Category','Employer_Category1','Contacted','Source_Category','Primary_Bank_Type']\n",
    "for feature in features:\n",
    "    train[feature]=le.fit_transform(train[feature])\n",
    "    test[feature]=le.fit_transform(test[feature])"
   ]
  },
  {
   "cell_type": "code",
   "execution_count": 415,
   "metadata": {},
   "outputs": [
    {
     "data": {
      "text/plain": [
       "Gender                0\n",
       "City_Code             0\n",
       "City_Category         0\n",
       "Employer_Category1    0\n",
       "Employer_Category2    0\n",
       "Monthly_Income        0\n",
       "Primary_Bank_Type     0\n",
       "Contacted             0\n",
       "Source_Category       0\n",
       "Existing_EMI          0\n",
       "Loan_Amount           0\n",
       "Loan_Period           0\n",
       "Interest_Rate         0\n",
       "EMI                   0\n",
       "Var1                  0\n",
       "dtype: int64"
      ]
     },
     "execution_count": 415,
     "metadata": {},
     "output_type": "execute_result"
    }
   ],
   "source": [
    "train.isnull().sum()"
   ]
  },
  {
   "cell_type": "code",
   "execution_count": 403,
   "metadata": {
    "collapsed": true
   },
   "outputs": [],
   "source": [
    "train.drop(['DOB','Lead_Creation_Date','Employer_Code','Customer_Existing_Primary_Bank_Code','Source'],axis=1,inplace=True)"
   ]
  },
  {
   "cell_type": "code",
   "execution_count": 404,
   "metadata": {},
   "outputs": [
    {
     "data": {
      "text/plain": [
       "(69713, 15)"
      ]
     },
     "execution_count": 404,
     "metadata": {},
     "output_type": "execute_result"
    }
   ],
   "source": [
    "train.shape"
   ]
  },
  {
   "cell_type": "code",
   "execution_count": 405,
   "metadata": {
    "collapsed": true
   },
   "outputs": [],
   "source": [
    "test.drop(['DOB','Lead_Creation_Date','Employer_Code','Customer_Existing_Primary_Bank_Code','Source'],axis=1,inplace=True)"
   ]
  },
  {
   "cell_type": "code",
   "execution_count": 406,
   "metadata": {},
   "outputs": [
    {
     "data": {
      "text/plain": [
       "(30037, 15)"
      ]
     },
     "execution_count": 406,
     "metadata": {},
     "output_type": "execute_result"
    }
   ],
   "source": [
    "test.shape"
   ]
  },
  {
   "cell_type": "code",
   "execution_count": 412,
   "metadata": {
    "collapsed": true
   },
   "outputs": [],
   "source": [
    "train['Primary_Bank_Type'].fillna(train['Primary_Bank_Type'].mode(),inplace=True)\n",
    "train['City_Code'].fillna(train['City_Code'].mode(),inplace=True)\n",
    "train['City_Category'].fillna(train['City_Category'].mode(),inplace=True)\n",
    "train['Employer_Category1'].fillna(train['Employer_Category1'].mode(),inplace=True)\n",
    "train['Employer_Category2'].fillna(train['Employer_Category2'].median(),inplace=True)\n",
    "train['Existing_EMI'].fillna(train['Existing_EMI'].mean(),inplace=True)\n",
    "train['Loan_Amount'].fillna(train['Loan_Amount'].mean(),inplace=True) \n",
    "train['Loan_Period'].fillna(train['Loan_Period'].mean(),inplace=True)\n",
    "train['Interest_Rate'].fillna(train['Interest_Rate'].mean(),inplace=True)\n",
    "train['EMI'].fillna(train['EMI'].mean(),inplace=True)"
   ]
  },
  {
   "cell_type": "code",
   "execution_count": 414,
   "metadata": {},
   "outputs": [
    {
     "data": {
      "text/plain": [
       "Gender                0\n",
       "City_Code             0\n",
       "City_Category         0\n",
       "Employer_Category1    0\n",
       "Employer_Category2    0\n",
       "Monthly_Income        0\n",
       "Primary_Bank_Type     0\n",
       "Contacted             0\n",
       "Source_Category       0\n",
       "Existing_EMI          0\n",
       "Loan_Amount           0\n",
       "Loan_Period           0\n",
       "Interest_Rate         0\n",
       "EMI                   0\n",
       "Var1                  0\n",
       "dtype: int64"
      ]
     },
     "execution_count": 414,
     "metadata": {},
     "output_type": "execute_result"
    }
   ],
   "source": [
    "test.isnull().sum()"
   ]
  },
  {
   "cell_type": "code",
   "execution_count": 413,
   "metadata": {
    "collapsed": true
   },
   "outputs": [],
   "source": [
    "test['Primary_Bank_Type'].fillna(test['Primary_Bank_Type'].mode(),inplace=True)\n",
    "test['City_Code'].fillna(test['City_Code'].mode(),inplace=True)\n",
    "test['City_Category'].fillna(test['City_Category'].mode(),inplace=True)\n",
    "test['Employer_Category1'].fillna(test['Employer_Category1'].mode(),inplace=True)\n",
    "test['Employer_Category2'].fillna(test['Employer_Category2'].median(),inplace=True)\n",
    "test['Existing_EMI'].fillna(test['Existing_EMI'].mean(),inplace=True)\n",
    "test['Loan_Amount'].fillna(test['Loan_Amount'].mean(),inplace=True) \n",
    "test['Loan_Period'].fillna(test['Loan_Period'].mean(),inplace=True)\n",
    "test['Interest_Rate'].fillna(test['Interest_Rate'].mean(),inplace=True)\n",
    "test['EMI'].fillna(test['EMI'].mean(),inplace=True)"
   ]
  },
  {
   "cell_type": "code",
   "execution_count": 417,
   "metadata": {
    "collapsed": true
   },
   "outputs": [],
   "source": [
    "percent=SelectPercentile(score_func=chi2,percentile=50)"
   ]
  },
  {
   "cell_type": "code",
   "execution_count": 418,
   "metadata": {},
   "outputs": [
    {
     "data": {
      "text/html": [
       "<div>\n",
       "<style>\n",
       "    .dataframe thead tr:only-child th {\n",
       "        text-align: right;\n",
       "    }\n",
       "\n",
       "    .dataframe thead th {\n",
       "        text-align: left;\n",
       "    }\n",
       "\n",
       "    .dataframe tbody tr th {\n",
       "        vertical-align: top;\n",
       "    }\n",
       "</style>\n",
       "<table border=\"1\" class=\"dataframe\">\n",
       "  <thead>\n",
       "    <tr style=\"text-align: right;\">\n",
       "      <th></th>\n",
       "      <th>Gender</th>\n",
       "      <th>City_Code</th>\n",
       "      <th>City_Category</th>\n",
       "      <th>Employer_Category1</th>\n",
       "      <th>Employer_Category2</th>\n",
       "      <th>Monthly_Income</th>\n",
       "      <th>Primary_Bank_Type</th>\n",
       "      <th>Contacted</th>\n",
       "      <th>Source_Category</th>\n",
       "      <th>Existing_EMI</th>\n",
       "      <th>Loan_Amount</th>\n",
       "      <th>Loan_Period</th>\n",
       "      <th>Interest_Rate</th>\n",
       "      <th>EMI</th>\n",
       "      <th>Var1</th>\n",
       "    </tr>\n",
       "  </thead>\n",
       "  <tbody>\n",
       "    <tr>\n",
       "      <th>0</th>\n",
       "      <td>0</td>\n",
       "      <td>1</td>\n",
       "      <td>1</td>\n",
       "      <td>1</td>\n",
       "      <td>4.0</td>\n",
       "      <td>2000.0</td>\n",
       "      <td>2</td>\n",
       "      <td>0</td>\n",
       "      <td>6</td>\n",
       "      <td>0.0</td>\n",
       "      <td>39429.982859</td>\n",
       "      <td>3.890629</td>\n",
       "      <td>19.21357</td>\n",
       "      <td>1101.466242</td>\n",
       "      <td>0</td>\n",
       "    </tr>\n",
       "    <tr>\n",
       "      <th>1</th>\n",
       "      <td>1</td>\n",
       "      <td>3</td>\n",
       "      <td>1</td>\n",
       "      <td>3</td>\n",
       "      <td>1.0</td>\n",
       "      <td>3500.0</td>\n",
       "      <td>2</td>\n",
       "      <td>1</td>\n",
       "      <td>6</td>\n",
       "      <td>0.0</td>\n",
       "      <td>20000.000000</td>\n",
       "      <td>2.000000</td>\n",
       "      <td>13.25000</td>\n",
       "      <td>953.000000</td>\n",
       "      <td>10</td>\n",
       "    </tr>\n",
       "    <tr>\n",
       "      <th>2</th>\n",
       "      <td>1</td>\n",
       "      <td>125</td>\n",
       "      <td>3</td>\n",
       "      <td>3</td>\n",
       "      <td>4.0</td>\n",
       "      <td>2250.0</td>\n",
       "      <td>1</td>\n",
       "      <td>1</td>\n",
       "      <td>1</td>\n",
       "      <td>0.0</td>\n",
       "      <td>45000.000000</td>\n",
       "      <td>4.000000</td>\n",
       "      <td>19.21357</td>\n",
       "      <td>1101.466242</td>\n",
       "      <td>0</td>\n",
       "    </tr>\n",
       "    <tr>\n",
       "      <th>3</th>\n",
       "      <td>1</td>\n",
       "      <td>477</td>\n",
       "      <td>3</td>\n",
       "      <td>1</td>\n",
       "      <td>4.0</td>\n",
       "      <td>3500.0</td>\n",
       "      <td>1</td>\n",
       "      <td>1</td>\n",
       "      <td>1</td>\n",
       "      <td>0.0</td>\n",
       "      <td>92000.000000</td>\n",
       "      <td>5.000000</td>\n",
       "      <td>19.21357</td>\n",
       "      <td>1101.466242</td>\n",
       "      <td>7</td>\n",
       "    </tr>\n",
       "    <tr>\n",
       "      <th>4</th>\n",
       "      <td>1</td>\n",
       "      <td>2</td>\n",
       "      <td>1</td>\n",
       "      <td>1</td>\n",
       "      <td>4.0</td>\n",
       "      <td>10000.0</td>\n",
       "      <td>2</td>\n",
       "      <td>1</td>\n",
       "      <td>1</td>\n",
       "      <td>2500.0</td>\n",
       "      <td>50000.000000</td>\n",
       "      <td>2.000000</td>\n",
       "      <td>19.21357</td>\n",
       "      <td>1101.466242</td>\n",
       "      <td>10</td>\n",
       "    </tr>\n",
       "  </tbody>\n",
       "</table>\n",
       "</div>"
      ],
      "text/plain": [
       "   Gender  City_Code  City_Category  Employer_Category1  Employer_Category2  \\\n",
       "0       0          1              1                   1                 4.0   \n",
       "1       1          3              1                   3                 1.0   \n",
       "2       1        125              3                   3                 4.0   \n",
       "3       1        477              3                   1                 4.0   \n",
       "4       1          2              1                   1                 4.0   \n",
       "\n",
       "   Monthly_Income  Primary_Bank_Type  Contacted  Source_Category  \\\n",
       "0          2000.0                  2          0                6   \n",
       "1          3500.0                  2          1                6   \n",
       "2          2250.0                  1          1                1   \n",
       "3          3500.0                  1          1                1   \n",
       "4         10000.0                  2          1                1   \n",
       "\n",
       "   Existing_EMI   Loan_Amount  Loan_Period  Interest_Rate          EMI  Var1  \n",
       "0           0.0  39429.982859     3.890629       19.21357  1101.466242     0  \n",
       "1           0.0  20000.000000     2.000000       13.25000   953.000000    10  \n",
       "2           0.0  45000.000000     4.000000       19.21357  1101.466242     0  \n",
       "3           0.0  92000.000000     5.000000       19.21357  1101.466242     7  \n",
       "4        2500.0  50000.000000     2.000000       19.21357  1101.466242    10  "
      ]
     },
     "execution_count": 418,
     "metadata": {},
     "output_type": "execute_result"
    }
   ],
   "source": [
    "X=train\n",
    "X.head()"
   ]
  },
  {
   "cell_type": "code",
   "execution_count": 419,
   "metadata": {},
   "outputs": [],
   "source": [
    "X_train,X_test,y_train,y_test=train_test_split(X,y,test_size=0.3,random_state=0)"
   ]
  },
  {
   "cell_type": "code",
   "execution_count": 420,
   "metadata": {},
   "outputs": [
    {
     "data": {
      "text/plain": [
       "((48799, 15), (20914, 15))"
      ]
     },
     "execution_count": 420,
     "metadata": {},
     "output_type": "execute_result"
    }
   ],
   "source": [
    "X_train.shape,X_test.shape"
   ]
  },
  {
   "cell_type": "code",
   "execution_count": 421,
   "metadata": {},
   "outputs": [
    {
     "name": "stdout",
     "output_type": "stream",
     "text": [
      "accuracy: 0.986468394377\n",
      "roc auc: 0.576685160385\n"
     ]
    }
   ],
   "source": [
    "#LogisticRegression\n",
    "clf=LogisticRegression()\n",
    "clf.fit(X_train,y_train)\n",
    "preds=clf.predict(X_test)\n",
    "print 'accuracy:',accuracy_score(preds,y_test)\n",
    "print 'roc auc:',roc_auc_score(preds,y_test)"
   ]
  },
  {
   "cell_type": "code",
   "execution_count": 422,
   "metadata": {},
   "outputs": [
    {
     "name": "stdout",
     "output_type": "stream",
     "text": [
      "accuracy: 0.986468394377\n",
      "roc auc: 0.576685160385\n",
      "accuracy: 0.986468394377\n",
      "roc auc: 0.576685160385\n",
      "accuracy: 0.986468394377\n",
      "roc auc: 0.576685160385\n",
      "accuracy: 0.986468394377\n",
      "roc auc: 0.576685160385\n",
      "accuracy: 0.986468394377\n",
      "roc auc: 0.576685160385\n",
      "accuracy: 0.986468394377\n",
      "roc auc: 0.576685160385\n",
      "accuracy: 0.986516209238\n",
      "roc auc: 0.593352145009\n"
     ]
    }
   ],
   "source": [
    "C_param_range = [0.001,0.01,0.1,1,10,100,1e-6]\n",
    "for i  in C_param_range:\n",
    "    lr=LogisticRegression(penalty='l2',C=i,n_jobs=4,random_state=42)\n",
    "    lr.fit(X_train,y_train)\n",
    "    preds=lr.predict(X_test)\n",
    "    print 'accuracy:',accuracy_score(preds,y_test)\n",
    "    print 'roc auc:',roc_auc_score(preds,y_test)"
   ]
  },
  {
   "cell_type": "code",
   "execution_count": 423,
   "metadata": {},
   "outputs": [
    {
     "name": "stdout",
     "output_type": "stream",
     "text": [
      "accuracy: 0.984125466195\n",
      "roc auc: 0.50242711888\n"
     ]
    }
   ],
   "source": [
    "#ExtraTreesClassifier\n",
    "clf=ExtraTreesClassifier()\n",
    "clf.fit(X_train,y_train)\n",
    "preds=clf.predict(X_test)\n",
    "print 'accuracy:',accuracy_score(preds,y_test)\n",
    "print 'roc auc:',roc_auc_score(preds,y_test)"
   ]
  },
  {
   "cell_type": "code",
   "execution_count": 424,
   "metadata": {},
   "outputs": [
    {
     "name": "stdout",
     "output_type": "stream",
     "text": [
      "accuracy: 0.985894616047\n",
      "roc auc: 0.493324720069\n"
     ]
    }
   ],
   "source": [
    "#RandomForestClassifier\n",
    "clf=RandomForestClassifier()\n",
    "clf.fit(X_train,y_train)\n",
    "preds=clf.predict(X_test)\n",
    "print 'accuracy:',accuracy_score(preds,y_test)\n",
    "print 'roc auc:',roc_auc_score(preds,y_test)"
   ]
  },
  {
   "cell_type": "code",
   "execution_count": null,
   "metadata": {
    "collapsed": true
   },
   "outputs": [],
   "source": []
  },
  {
   "cell_type": "code",
   "execution_count": 425,
   "metadata": {},
   "outputs": [
    {
     "name": "stdout",
     "output_type": "stream",
     "text": [
      "accuracy: 0.986277134934\n",
      "roc auc: 0.493327274467\n"
     ]
    }
   ],
   "source": [
    "#GradientBoostingClassifier\n",
    "clf=GradientBoostingClassifier()\n",
    "clf.fit(X_train,y_train)\n",
    "preds=clf.predict(X_test)\n",
    "print 'accuracy:',accuracy_score(preds,y_test)\n",
    "print 'roc auc:',roc_auc_score(preds,y_test)"
   ]
  },
  {
   "cell_type": "code",
   "execution_count": 426,
   "metadata": {},
   "outputs": [
    {
     "name": "stdout",
     "output_type": "stream",
     "text": [
      "accuracy: 0.969111599885\n",
      "roc auc: 0.51364018137\n"
     ]
    }
   ],
   "source": [
    "#DecisionTreeClassifier\n",
    "clf=DecisionTreeClassifier()\n",
    "clf.fit(X_train,y_train)\n",
    "preds=clf.predict(X_test)\n",
    "print 'accuracy:',accuracy_score(preds,y_test)\n",
    "print 'roc auc:',roc_auc_score(preds,y_test)"
   ]
  },
  {
   "cell_type": "code",
   "execution_count": 248,
   "metadata": {},
   "outputs": [
    {
     "name": "stdout",
     "output_type": "stream",
     "text": [
      "accuracy: 0.98661183896\n",
      "roc auc: 0.493329507962\n"
     ]
    }
   ],
   "source": [
    "#SVC\n",
    "clf=SVC()\n",
    "clf.fit(X_train,y_train)\n",
    "preds=clf.predict(X_test)\n",
    "print 'accuracy:',accuracy_score(preds,y_test)\n",
    "print 'roc auc:',roc_auc_score(preds,y_test)"
   ]
  },
  {
   "cell_type": "code",
   "execution_count": 427,
   "metadata": {},
   "outputs": [
    {
     "data": {
      "text/html": [
       "<div>\n",
       "<style>\n",
       "    .dataframe thead tr:only-child th {\n",
       "        text-align: right;\n",
       "    }\n",
       "\n",
       "    .dataframe thead th {\n",
       "        text-align: left;\n",
       "    }\n",
       "\n",
       "    .dataframe tbody tr th {\n",
       "        vertical-align: top;\n",
       "    }\n",
       "</style>\n",
       "<table border=\"1\" class=\"dataframe\">\n",
       "  <thead>\n",
       "    <tr style=\"text-align: right;\">\n",
       "      <th></th>\n",
       "      <th>Gender</th>\n",
       "      <th>City_Code</th>\n",
       "      <th>City_Category</th>\n",
       "      <th>Employer_Category1</th>\n",
       "      <th>Employer_Category2</th>\n",
       "      <th>Monthly_Income</th>\n",
       "      <th>Primary_Bank_Type</th>\n",
       "      <th>Contacted</th>\n",
       "      <th>Source_Category</th>\n",
       "      <th>Existing_EMI</th>\n",
       "      <th>Loan_Amount</th>\n",
       "      <th>Loan_Period</th>\n",
       "      <th>Interest_Rate</th>\n",
       "      <th>EMI</th>\n",
       "      <th>Var1</th>\n",
       "    </tr>\n",
       "  </thead>\n",
       "  <tbody>\n",
       "    <tr>\n",
       "      <th>0</th>\n",
       "      <td>0</td>\n",
       "      <td>1</td>\n",
       "      <td>1</td>\n",
       "      <td>1</td>\n",
       "      <td>4.0</td>\n",
       "      <td>2000.0</td>\n",
       "      <td>2</td>\n",
       "      <td>0</td>\n",
       "      <td>6</td>\n",
       "      <td>0.0</td>\n",
       "      <td>39429.982859</td>\n",
       "      <td>3.890629</td>\n",
       "      <td>19.21357</td>\n",
       "      <td>1101.466242</td>\n",
       "      <td>0</td>\n",
       "    </tr>\n",
       "    <tr>\n",
       "      <th>1</th>\n",
       "      <td>1</td>\n",
       "      <td>3</td>\n",
       "      <td>1</td>\n",
       "      <td>3</td>\n",
       "      <td>1.0</td>\n",
       "      <td>3500.0</td>\n",
       "      <td>2</td>\n",
       "      <td>1</td>\n",
       "      <td>6</td>\n",
       "      <td>0.0</td>\n",
       "      <td>20000.000000</td>\n",
       "      <td>2.000000</td>\n",
       "      <td>13.25000</td>\n",
       "      <td>953.000000</td>\n",
       "      <td>10</td>\n",
       "    </tr>\n",
       "    <tr>\n",
       "      <th>2</th>\n",
       "      <td>1</td>\n",
       "      <td>125</td>\n",
       "      <td>3</td>\n",
       "      <td>3</td>\n",
       "      <td>4.0</td>\n",
       "      <td>2250.0</td>\n",
       "      <td>1</td>\n",
       "      <td>1</td>\n",
       "      <td>1</td>\n",
       "      <td>0.0</td>\n",
       "      <td>45000.000000</td>\n",
       "      <td>4.000000</td>\n",
       "      <td>19.21357</td>\n",
       "      <td>1101.466242</td>\n",
       "      <td>0</td>\n",
       "    </tr>\n",
       "    <tr>\n",
       "      <th>3</th>\n",
       "      <td>1</td>\n",
       "      <td>477</td>\n",
       "      <td>3</td>\n",
       "      <td>1</td>\n",
       "      <td>4.0</td>\n",
       "      <td>3500.0</td>\n",
       "      <td>1</td>\n",
       "      <td>1</td>\n",
       "      <td>1</td>\n",
       "      <td>0.0</td>\n",
       "      <td>92000.000000</td>\n",
       "      <td>5.000000</td>\n",
       "      <td>19.21357</td>\n",
       "      <td>1101.466242</td>\n",
       "      <td>7</td>\n",
       "    </tr>\n",
       "    <tr>\n",
       "      <th>4</th>\n",
       "      <td>1</td>\n",
       "      <td>2</td>\n",
       "      <td>1</td>\n",
       "      <td>1</td>\n",
       "      <td>4.0</td>\n",
       "      <td>10000.0</td>\n",
       "      <td>2</td>\n",
       "      <td>1</td>\n",
       "      <td>1</td>\n",
       "      <td>2500.0</td>\n",
       "      <td>50000.000000</td>\n",
       "      <td>2.000000</td>\n",
       "      <td>19.21357</td>\n",
       "      <td>1101.466242</td>\n",
       "      <td>10</td>\n",
       "    </tr>\n",
       "  </tbody>\n",
       "</table>\n",
       "</div>"
      ],
      "text/plain": [
       "   Gender  City_Code  City_Category  Employer_Category1  Employer_Category2  \\\n",
       "0       0          1              1                   1                 4.0   \n",
       "1       1          3              1                   3                 1.0   \n",
       "2       1        125              3                   3                 4.0   \n",
       "3       1        477              3                   1                 4.0   \n",
       "4       1          2              1                   1                 4.0   \n",
       "\n",
       "   Monthly_Income  Primary_Bank_Type  Contacted  Source_Category  \\\n",
       "0          2000.0                  2          0                6   \n",
       "1          3500.0                  2          1                6   \n",
       "2          2250.0                  1          1                1   \n",
       "3          3500.0                  1          1                1   \n",
       "4         10000.0                  2          1                1   \n",
       "\n",
       "   Existing_EMI   Loan_Amount  Loan_Period  Interest_Rate          EMI  Var1  \n",
       "0           0.0  39429.982859     3.890629       19.21357  1101.466242     0  \n",
       "1           0.0  20000.000000     2.000000       13.25000   953.000000    10  \n",
       "2           0.0  45000.000000     4.000000       19.21357  1101.466242     0  \n",
       "3           0.0  92000.000000     5.000000       19.21357  1101.466242     7  \n",
       "4        2500.0  50000.000000     2.000000       19.21357  1101.466242    10  "
      ]
     },
     "execution_count": 427,
     "metadata": {},
     "output_type": "execute_result"
    }
   ],
   "source": [
    "X=train\n",
    "train.head()"
   ]
  },
  {
   "cell_type": "code",
   "execution_count": 428,
   "metadata": {},
   "outputs": [
    {
     "data": {
      "text/html": [
       "<div>\n",
       "<style>\n",
       "    .dataframe thead tr:only-child th {\n",
       "        text-align: right;\n",
       "    }\n",
       "\n",
       "    .dataframe thead th {\n",
       "        text-align: left;\n",
       "    }\n",
       "\n",
       "    .dataframe tbody tr th {\n",
       "        vertical-align: top;\n",
       "    }\n",
       "</style>\n",
       "<table border=\"1\" class=\"dataframe\">\n",
       "  <thead>\n",
       "    <tr style=\"text-align: right;\">\n",
       "      <th></th>\n",
       "      <th>Gender</th>\n",
       "      <th>City_Code</th>\n",
       "      <th>City_Category</th>\n",
       "      <th>Employer_Category1</th>\n",
       "      <th>Employer_Category2</th>\n",
       "      <th>Monthly_Income</th>\n",
       "      <th>Primary_Bank_Type</th>\n",
       "      <th>Contacted</th>\n",
       "      <th>Source_Category</th>\n",
       "      <th>Existing_EMI</th>\n",
       "      <th>Loan_Amount</th>\n",
       "      <th>Loan_Period</th>\n",
       "      <th>Interest_Rate</th>\n",
       "      <th>EMI</th>\n",
       "      <th>Var1</th>\n",
       "    </tr>\n",
       "  </thead>\n",
       "  <tbody>\n",
       "    <tr>\n",
       "      <th>0</th>\n",
       "      <td>1</td>\n",
       "      <td>28</td>\n",
       "      <td>3</td>\n",
       "      <td>1</td>\n",
       "      <td>4.0</td>\n",
       "      <td>2150.0</td>\n",
       "      <td>2</td>\n",
       "      <td>1</td>\n",
       "      <td>1</td>\n",
       "      <td>0.0</td>\n",
       "      <td>10000.000000</td>\n",
       "      <td>3.000000</td>\n",
       "      <td>20.000000</td>\n",
       "      <td>372.000000</td>\n",
       "      <td>4</td>\n",
       "    </tr>\n",
       "    <tr>\n",
       "      <th>1</th>\n",
       "      <td>1</td>\n",
       "      <td>3</td>\n",
       "      <td>1</td>\n",
       "      <td>3</td>\n",
       "      <td>4.0</td>\n",
       "      <td>4200.0</td>\n",
       "      <td>2</td>\n",
       "      <td>1</td>\n",
       "      <td>2</td>\n",
       "      <td>0.0</td>\n",
       "      <td>69000.000000</td>\n",
       "      <td>5.000000</td>\n",
       "      <td>24.000000</td>\n",
       "      <td>1985.000000</td>\n",
       "      <td>7</td>\n",
       "    </tr>\n",
       "    <tr>\n",
       "      <th>2</th>\n",
       "      <td>0</td>\n",
       "      <td>9</td>\n",
       "      <td>2</td>\n",
       "      <td>2</td>\n",
       "      <td>4.0</td>\n",
       "      <td>1000.0</td>\n",
       "      <td>2</td>\n",
       "      <td>0</td>\n",
       "      <td>1</td>\n",
       "      <td>0.0</td>\n",
       "      <td>39482.990201</td>\n",
       "      <td>3.903116</td>\n",
       "      <td>19.280537</td>\n",
       "      <td>1094.914836</td>\n",
       "      <td>0</td>\n",
       "    </tr>\n",
       "    <tr>\n",
       "      <th>3</th>\n",
       "      <td>0</td>\n",
       "      <td>5</td>\n",
       "      <td>1</td>\n",
       "      <td>1</td>\n",
       "      <td>3.0</td>\n",
       "      <td>1465.0</td>\n",
       "      <td>2</td>\n",
       "      <td>0</td>\n",
       "      <td>2</td>\n",
       "      <td>0.0</td>\n",
       "      <td>39482.990201</td>\n",
       "      <td>3.903116</td>\n",
       "      <td>19.280537</td>\n",
       "      <td>1094.914836</td>\n",
       "      <td>0</td>\n",
       "    </tr>\n",
       "    <tr>\n",
       "      <th>4</th>\n",
       "      <td>1</td>\n",
       "      <td>5</td>\n",
       "      <td>1</td>\n",
       "      <td>1</td>\n",
       "      <td>4.0</td>\n",
       "      <td>2340.0</td>\n",
       "      <td>2</td>\n",
       "      <td>1</td>\n",
       "      <td>1</td>\n",
       "      <td>500.0</td>\n",
       "      <td>10000.000000</td>\n",
       "      <td>2.000000</td>\n",
       "      <td>19.280537</td>\n",
       "      <td>1094.914836</td>\n",
       "      <td>0</td>\n",
       "    </tr>\n",
       "  </tbody>\n",
       "</table>\n",
       "</div>"
      ],
      "text/plain": [
       "   Gender  City_Code  City_Category  Employer_Category1  Employer_Category2  \\\n",
       "0       1         28              3                   1                 4.0   \n",
       "1       1          3              1                   3                 4.0   \n",
       "2       0          9              2                   2                 4.0   \n",
       "3       0          5              1                   1                 3.0   \n",
       "4       1          5              1                   1                 4.0   \n",
       "\n",
       "   Monthly_Income  Primary_Bank_Type  Contacted  Source_Category  \\\n",
       "0          2150.0                  2          1                1   \n",
       "1          4200.0                  2          1                2   \n",
       "2          1000.0                  2          0                1   \n",
       "3          1465.0                  2          0                2   \n",
       "4          2340.0                  2          1                1   \n",
       "\n",
       "   Existing_EMI   Loan_Amount  Loan_Period  Interest_Rate          EMI  Var1  \n",
       "0           0.0  10000.000000     3.000000      20.000000   372.000000     4  \n",
       "1           0.0  69000.000000     5.000000      24.000000  1985.000000     7  \n",
       "2           0.0  39482.990201     3.903116      19.280537  1094.914836     0  \n",
       "3           0.0  39482.990201     3.903116      19.280537  1094.914836     0  \n",
       "4         500.0  10000.000000     2.000000      19.280537  1094.914836     0  "
      ]
     },
     "execution_count": 428,
     "metadata": {},
     "output_type": "execute_result"
    }
   ],
   "source": [
    "test.head()"
   ]
  },
  {
   "cell_type": "code",
   "execution_count": 258,
   "metadata": {},
   "outputs": [
    {
     "data": {
      "text/html": [
       "<div>\n",
       "<style>\n",
       "    .dataframe thead tr:only-child th {\n",
       "        text-align: right;\n",
       "    }\n",
       "\n",
       "    .dataframe thead th {\n",
       "        text-align: left;\n",
       "    }\n",
       "\n",
       "    .dataframe tbody tr th {\n",
       "        vertical-align: top;\n",
       "    }\n",
       "</style>\n",
       "<table border=\"1\" class=\"dataframe\">\n",
       "  <thead>\n",
       "    <tr style=\"text-align: right;\">\n",
       "      <th></th>\n",
       "      <th>ID</th>\n",
       "      <th>Approved</th>\n",
       "    </tr>\n",
       "  </thead>\n",
       "  <tbody>\n",
       "    <tr>\n",
       "      <th>0</th>\n",
       "      <td>APPA70109647212</td>\n",
       "      <td>0</td>\n",
       "    </tr>\n",
       "    <tr>\n",
       "      <th>1</th>\n",
       "      <td>APPB10687939341</td>\n",
       "      <td>0</td>\n",
       "    </tr>\n",
       "    <tr>\n",
       "      <th>2</th>\n",
       "      <td>APPC80449411414</td>\n",
       "      <td>0</td>\n",
       "    </tr>\n",
       "    <tr>\n",
       "      <th>3</th>\n",
       "      <td>APPD30665094501</td>\n",
       "      <td>0</td>\n",
       "    </tr>\n",
       "    <tr>\n",
       "      <th>4</th>\n",
       "      <td>APPE80379821637</td>\n",
       "      <td>0</td>\n",
       "    </tr>\n",
       "  </tbody>\n",
       "</table>\n",
       "</div>"
      ],
      "text/plain": [
       "                ID  Approved\n",
       "0  APPA70109647212         0\n",
       "1  APPB10687939341         0\n",
       "2  APPC80449411414         0\n",
       "3  APPD30665094501         0\n",
       "4  APPE80379821637         0"
      ]
     },
     "execution_count": 258,
     "metadata": {},
     "output_type": "execute_result"
    }
   ],
   "source": [
    "lr=LogisticRegression(penalty='l2',C=1e-6,n_jobs=4,random_state=42)\n",
    "lr.fit(X_train,y_train)\n",
    "preds=lr.predict(test)\n",
    "sub=pd.DataFrame()\n",
    "sub['ID']=ID\n",
    "sub['Approved']=pd.Series(preds)\n",
    "sub.head()"
   ]
  },
  {
   "cell_type": "code",
   "execution_count": 259,
   "metadata": {
    "collapsed": true
   },
   "outputs": [],
   "source": [
    "sub.to_csv('submission1.csv',index=False)"
   ]
  },
  {
   "cell_type": "code",
   "execution_count": 440,
   "metadata": {
    "collapsed": true
   },
   "outputs": [],
   "source": [
    "from sklearn.feature_selection import  SelectKBest,chi2\n"
   ]
  },
  {
   "cell_type": "code",
   "execution_count": 357,
   "metadata": {},
   "outputs": [],
   "source": [
    "X_new=SelectKBest(k=6,score_func=chi2).fit_transform(X,y)"
   ]
  },
  {
   "cell_type": "code",
   "execution_count": 358,
   "metadata": {},
   "outputs": [],
   "source": [
    "def train_score(X,y):\n",
    "    X_train,X_test,y_train,y_test=train_test_split(X,y,test_size=0.3,random_state=0)\n",
    "\n",
    "    print 'LogisticRegression'\n",
    "    lr=LogisticRegression(n_jobs=-1,penalty='l2')\n",
    "    lr.fit(X_train,y_train)\n",
    "    preds=lr.predict(X_test)\n",
    "    print 'accuracy:',accuracy_score(preds,y_test)\n",
    "    print 'roc auc:',roc_auc_score(preds,y_test)\n",
    "\n",
    "    print 'ExtraTreesClassifier'\n",
    "    et=ExtraTreesClassifier(max_features=5,n_estimators=15,n_jobs=-1)\n",
    "    et.fit(X_train,y_train)\n",
    "    preds=et.predict(X_test)\n",
    "    print 'accuracy:',accuracy_score(preds,y_test)\n",
    "    print 'roc auc:',roc_auc_score(preds,y_test)\n",
    "\n",
    "    print 'RandomForestClassifier'\n",
    "    rf=RandomForestClassifier(n_estimators=16,n_jobs=-1)\n",
    "    rf.fit(X_train,y_train)\n",
    "    preds=rf.predict(X_test)\n",
    "    print 'accuracy:',accuracy_score(preds,y_test)\n",
    "    print 'roc auc:',roc_auc_score(preds,y_test)\n",
    "\n",
    "    print 'GradientBoostingClassifier'\n",
    "    gb=GradientBoostingClassifier(n_estimators=15)\n",
    "    gb.fit(X_train,y_train)\n",
    "    preds=gb.predict(X_test)\n",
    "    print 'accuracy:',accuracy_score(preds,y_test)\n",
    "    print 'roc auc:',roc_auc_score(preds,y_test)\n",
    "\n",
    "    print 'DecisionTreeClassifier'\n",
    "    dt=DecisionTreeClassifier()\n",
    "    dt.fit(X_train,y_train)\n",
    "    preds=dt.predict(X_test)\n",
    "    print 'accuracy:',accuracy_score(preds,y_test)\n",
    "    print 'roc auc:',roc_auc_score(preds,y_test)\n",
    "    \n",
    "    return (lr,et,rf,gb,dt)"
   ]
  },
  {
   "cell_type": "code",
   "execution_count": 429,
   "metadata": {},
   "outputs": [
    {
     "name": "stdout",
     "output_type": "stream",
     "text": [
      "LogisticRegression\n",
      "accuracy: 0.986468394377\n",
      "roc auc: 0.576685160385\n",
      "ExtraTreesClassifier\n",
      "accuracy: 0.983647317586\n",
      "roc auc: 0.508281731363\n",
      "RandomForestClassifier\n",
      "accuracy: 0.986372764655\n",
      "roc auc: 0.555851191046\n",
      "GradientBoostingClassifier\n",
      "accuracy: 0.986468394377\n",
      "roc auc: 0.493328550933\n",
      "DecisionTreeClassifier\n",
      "accuracy: 0.968681266138\n",
      "roc auc: 0.517720772008\n"
     ]
    }
   ],
   "source": [
    "(lr,et,rf,gb,dt)=train_score(X,y)"
   ]
  },
  {
   "cell_type": "code",
   "execution_count": 434,
   "metadata": {},
   "outputs": [],
   "source": [
    "dt.fit(X_train,y_train)\n",
    "preds=dt.predict(test)\n",
    "sub=pd.DataFrame()\n",
    "sub['ID']=ID\n",
    "sub['Approved']=pd.Series(preds)\n"
   ]
  },
  {
   "cell_type": "code",
   "execution_count": 435,
   "metadata": {},
   "outputs": [],
   "source": [
    "sub.to_csv('submission1.csv',index=False)"
   ]
  },
  {
   "cell_type": "code",
   "execution_count": 431,
   "metadata": {
    "collapsed": true
   },
   "outputs": [],
   "source": [
    "from xgboost import XGBClassifier"
   ]
  },
  {
   "cell_type": "code",
   "execution_count": 443,
   "metadata": {},
   "outputs": [
    {
     "name": "stdout",
     "output_type": "stream",
     "text": [
      "0.98665965382\n",
      "[0 0 0 ..., 0 0 0]\n"
     ]
    }
   ],
   "source": [
    "xgb=XGBClassifier()\n",
    "\n",
    "bst = xgb.fit(X_train,y_train)\n",
    "# make prediction\n",
    "preds = xgb.predict(X_test)\n",
    "print accuracy_score(preds,y_test)\n",
    "print preds\n",
    "#print roc_auc_score(preds,y_test)"
   ]
  },
  {
   "cell_type": "code",
   "execution_count": 437,
   "metadata": {},
   "outputs": [
    {
     "data": {
      "text/plain": [
       "array([0])"
      ]
     },
     "execution_count": 437,
     "metadata": {},
     "output_type": "execute_result"
    }
   ],
   "source": [
    "preds=pd.Series(preds)\n",
    "preds.unique()"
   ]
  },
  {
   "cell_type": "code",
   "execution_count": 444,
   "metadata": {},
   "outputs": [],
   "source": [
    "preds=xgb.predict(test)\n",
    "sub=pd.DataFrame()\n",
    "sub['ID']=ID\n",
    "sub['Approved']=pd.Series(preds)\n",
    "sub.to_csv('submission1.csv',index=False)"
   ]
  },
  {
   "cell_type": "code",
   "execution_count": 441,
   "metadata": {},
   "outputs": [],
   "source": [
    "X_new=SelectKBest(k=6,score_func=chi2).fit_transform(X,y)"
   ]
  },
  {
   "cell_type": "code",
   "execution_count": 442,
   "metadata": {
    "collapsed": true
   },
   "outputs": [],
   "source": [
    "X_train,X_test,y_train,y_test=train_test_split(X,y,test_size=0.3,random_state=0)"
   ]
  },
  {
   "cell_type": "code",
   "execution_count": null,
   "metadata": {
    "collapsed": true
   },
   "outputs": [],
   "source": []
  }
 ],
 "metadata": {
  "kernelspec": {
   "display_name": "Python 2",
   "language": "python",
   "name": "python2"
  },
  "language_info": {
   "codemirror_mode": {
    "name": "ipython",
    "version": 2
   },
   "file_extension": ".py",
   "mimetype": "text/x-python",
   "name": "python",
   "nbconvert_exporter": "python",
   "pygments_lexer": "ipython2",
   "version": "2.7.14"
  }
 },
 "nbformat": 4,
 "nbformat_minor": 2
}
